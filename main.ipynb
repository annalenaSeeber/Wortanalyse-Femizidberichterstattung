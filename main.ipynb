{
 "cells": [
  {
   "cell_type": "code",
   "execution_count": 11,
   "metadata": {},
   "outputs": [
    {
     "name": "stderr",
     "output_type": "stream",
     "text": [
      "[nltk_data] Downloading package punkt to\n",
      "[nltk_data]     /Users/matthiasseeber/nltk_data...\n",
      "[nltk_data]   Package punkt is already up-to-date!\n"
     ]
    },
    {
     "data": {
      "text/plain": [
       "True"
      ]
     },
     "execution_count": 11,
     "metadata": {},
     "output_type": "execute_result"
    }
   ],
   "source": [
    "#imports\n",
    "import pandas as pd\n",
    "import numpy as np\n",
    "import matplotlib.pyplot as plt\n",
    "from nltk.tokenize import sent_tokenize, word_tokenize\n",
    "import nltk\n",
    "\n",
    "nltk.download('punkt')"
   ]
  },
  {
   "cell_type": "code",
   "execution_count": 5,
   "metadata": {},
   "outputs": [],
   "source": [
    "stopwords = [\"Femizid\", \"Frauenmord\", \"Beziehungstat\", \"Notrufnummern\", \"Notrufnummer\", \"Beziehungsdrama\", \"Bluttat\", \"Beziehungstat\", \"Beziehungsdrama\", \"Familientragödie\", \"Ausländer\", \"Einzelfall\", \"Gesellschaftsproblem\", \"Sextäter\", \"Sexattacke\", \"Sexverbrechen\", \"Rache\", \"Eifersucht\", \"Gewaltprävention\", \"Hilfeleistung\", \"Helpline\", \"Killer\", \"Täter\", \"Opfer\"]\n",
    "stopwords = [word.lower() for word in stopwords]"
   ]
  },
  {
   "cell_type": "code",
   "execution_count": 7,
   "metadata": {},
   "outputs": [
    {
     "data": {
      "text/plain": [
       "93"
      ]
     },
     "execution_count": 7,
     "metadata": {},
     "output_type": "execute_result"
    }
   ],
   "source": [
    "newspaper_name = \"standard\"\n",
    "#newspaper_name = \"presse\"\n",
    "#newspaper_name = \"heute\"\n",
    "#newspaper_name = \"krone\"\n",
    "df = pd.read_excel('Daten_Femizide.xlsx', sheet_name = [newspaper_name])\n",
    "# get df from dict\n",
    "df = df[newspaper_name]\n",
    "#set index\n",
    "df = df.reset_index()\n",
    "#add column\n",
    "df[\"num_sentences\"] = pd.NaT\n",
    "df[\"num_words\"] = pd.NaT\n",
    "df[\"stopwords_count\"] = pd.NaT\n",
    "\n",
    "number_of_articles = len(df)\n",
    "number_of_articles"
   ]
  },
  {
   "cell_type": "code",
   "execution_count": 8,
   "metadata": {},
   "outputs": [
    {
     "data": {
      "text/html": [
       "<div>\n",
       "<style scoped>\n",
       "    .dataframe tbody tr th:only-of-type {\n",
       "        vertical-align: middle;\n",
       "    }\n",
       "\n",
       "    .dataframe tbody tr th {\n",
       "        vertical-align: top;\n",
       "    }\n",
       "\n",
       "    .dataframe thead th {\n",
       "        text-align: right;\n",
       "    }\n",
       "</style>\n",
       "<table border=\"1\" class=\"dataframe\">\n",
       "  <thead>\n",
       "    <tr style=\"text-align: right;\">\n",
       "      <th></th>\n",
       "      <th>index</th>\n",
       "      <th>text</th>\n",
       "      <th>num_sentences</th>\n",
       "      <th>num_words</th>\n",
       "      <th>stopwords_count</th>\n",
       "    </tr>\n",
       "  </thead>\n",
       "  <tbody>\n",
       "    <tr>\n",
       "      <th>0</th>\n",
       "      <td>0</td>\n",
       "      <td>Ich bewundere den weisen Zugang des Arbeitsmin...</td>\n",
       "      <td>NaT</td>\n",
       "      <td>NaT</td>\n",
       "      <td>NaT</td>\n",
       "    </tr>\n",
       "    <tr>\n",
       "      <th>1</th>\n",
       "      <td>1</td>\n",
       "      <td>Vielleicht muss man alle bürgerlichen Tugenden...</td>\n",
       "      <td>NaT</td>\n",
       "      <td>NaT</td>\n",
       "      <td>NaT</td>\n",
       "    </tr>\n",
       "    <tr>\n",
       "      <th>2</th>\n",
       "      <td>2</td>\n",
       "      <td>„Also bitte: Cool down!“\\n\\nMit „Blaue Frau“ h...</td>\n",
       "      <td>NaT</td>\n",
       "      <td>NaT</td>\n",
       "      <td>NaT</td>\n",
       "    </tr>\n",
       "    <tr>\n",
       "      <th>3</th>\n",
       "      <td>3</td>\n",
       "      <td>Geht es um Frauenmorde oder um den Verdacht, d...</td>\n",
       "      <td>NaT</td>\n",
       "      <td>NaT</td>\n",
       "      <td>NaT</td>\n",
       "    </tr>\n",
       "    <tr>\n",
       "      <th>4</th>\n",
       "      <td>4</td>\n",
       "      <td>Auf 31 Femizide kommen die Autonomen Frauenhäu...</td>\n",
       "      <td>NaT</td>\n",
       "      <td>NaT</td>\n",
       "      <td>NaT</td>\n",
       "    </tr>\n",
       "  </tbody>\n",
       "</table>\n",
       "</div>"
      ],
      "text/plain": [
       "   index                                               text num_sentences  \\\n",
       "0      0  Ich bewundere den weisen Zugang des Arbeitsmin...           NaT   \n",
       "1      1  Vielleicht muss man alle bürgerlichen Tugenden...           NaT   \n",
       "2      2  „Also bitte: Cool down!“\\n\\nMit „Blaue Frau“ h...           NaT   \n",
       "3      3  Geht es um Frauenmorde oder um den Verdacht, d...           NaT   \n",
       "4      4  Auf 31 Femizide kommen die Autonomen Frauenhäu...           NaT   \n",
       "\n",
       "  num_words stopwords_count  \n",
       "0       NaT             NaT  \n",
       "1       NaT             NaT  \n",
       "2       NaT             NaT  \n",
       "3       NaT             NaT  \n",
       "4       NaT             NaT  "
      ]
     },
     "execution_count": 8,
     "metadata": {},
     "output_type": "execute_result"
    }
   ],
   "source": [
    "df.head()"
   ]
  },
  {
   "cell_type": "code",
   "execution_count": 12,
   "metadata": {},
   "outputs": [],
   "source": [
    "# loop trough df\n",
    "\n",
    "for index, row in df.iterrows():\n",
    "    text = row[\"text\"].lower()\n",
    "    sentences = sent_tokenize(text)\n",
    "    num_sentences = len(sentences)\n",
    "    words = word_tokenize(text)\n",
    "    num_words = len(words)\n",
    "    df.at[index,'num_sentences']= num_sentences\n",
    "    df.at[index,'num_words']= num_words\n",
    "    # check for stopwords\n",
    "    stopwordscount = [0 for x in stopwords]\n",
    "    for stopword in stopwords:\n",
    "        if stopword in text:\n",
    "            index_of_value = stopwords.index(stopword)\n",
    "            stopwordscount[index_of_value] += 1\n",
    "    \n",
    "    df.at[index,'stopwords_count'] = 0 #place holder for cast\n",
    "    df.at[index,'stopwords_count'] = list(stopwordscount)\n",
    "    #df.at[index,'stopwords_count'] = [0,0,0,0]"
   ]
  },
  {
   "cell_type": "code",
   "execution_count": 13,
   "metadata": {},
   "outputs": [
    {
     "data": {
      "text/html": [
       "<div>\n",
       "<style scoped>\n",
       "    .dataframe tbody tr th:only-of-type {\n",
       "        vertical-align: middle;\n",
       "    }\n",
       "\n",
       "    .dataframe tbody tr th {\n",
       "        vertical-align: top;\n",
       "    }\n",
       "\n",
       "    .dataframe thead th {\n",
       "        text-align: right;\n",
       "    }\n",
       "</style>\n",
       "<table border=\"1\" class=\"dataframe\">\n",
       "  <thead>\n",
       "    <tr style=\"text-align: right;\">\n",
       "      <th></th>\n",
       "      <th>index</th>\n",
       "      <th>text</th>\n",
       "      <th>num_sentences</th>\n",
       "      <th>num_words</th>\n",
       "      <th>stopwords_count</th>\n",
       "    </tr>\n",
       "  </thead>\n",
       "  <tbody>\n",
       "    <tr>\n",
       "      <th>0</th>\n",
       "      <td>0</td>\n",
       "      <td>Ich bewundere den weisen Zugang des Arbeitsmin...</td>\n",
       "      <td>4</td>\n",
       "      <td>116</td>\n",
       "      <td>[1, 0, 0, 0, 0, 0, 0, 0, 0, 0, 0, 0, 0, 0, 0, ...</td>\n",
       "    </tr>\n",
       "    <tr>\n",
       "      <th>1</th>\n",
       "      <td>1</td>\n",
       "      <td>Vielleicht muss man alle bürgerlichen Tugenden...</td>\n",
       "      <td>14</td>\n",
       "      <td>222</td>\n",
       "      <td>[0, 0, 0, 0, 0, 0, 0, 0, 0, 0, 0, 0, 0, 0, 0, ...</td>\n",
       "    </tr>\n",
       "    <tr>\n",
       "      <th>2</th>\n",
       "      <td>2</td>\n",
       "      <td>„Also bitte: Cool down!“\\n\\nMit „Blaue Frau“ h...</td>\n",
       "      <td>175</td>\n",
       "      <td>2781</td>\n",
       "      <td>[1, 0, 0, 0, 0, 0, 0, 0, 0, 0, 0, 0, 0, 0, 0, ...</td>\n",
       "    </tr>\n",
       "    <tr>\n",
       "      <th>3</th>\n",
       "      <td>3</td>\n",
       "      <td>Geht es um Frauenmorde oder um den Verdacht, d...</td>\n",
       "      <td>10</td>\n",
       "      <td>244</td>\n",
       "      <td>[1, 1, 0, 0, 0, 0, 0, 0, 0, 0, 0, 0, 0, 0, 0, ...</td>\n",
       "    </tr>\n",
       "    <tr>\n",
       "      <th>4</th>\n",
       "      <td>4</td>\n",
       "      <td>Auf 31 Femizide kommen die Autonomen Frauenhäu...</td>\n",
       "      <td>12</td>\n",
       "      <td>238</td>\n",
       "      <td>[1, 1, 0, 0, 0, 0, 0, 0, 0, 0, 0, 0, 0, 0, 0, ...</td>\n",
       "    </tr>\n",
       "  </tbody>\n",
       "</table>\n",
       "</div>"
      ],
      "text/plain": [
       "   index                                               text num_sentences  \\\n",
       "0      0  Ich bewundere den weisen Zugang des Arbeitsmin...             4   \n",
       "1      1  Vielleicht muss man alle bürgerlichen Tugenden...            14   \n",
       "2      2  „Also bitte: Cool down!“\\n\\nMit „Blaue Frau“ h...           175   \n",
       "3      3  Geht es um Frauenmorde oder um den Verdacht, d...            10   \n",
       "4      4  Auf 31 Femizide kommen die Autonomen Frauenhäu...            12   \n",
       "\n",
       "  num_words                                    stopwords_count  \n",
       "0       116  [1, 0, 0, 0, 0, 0, 0, 0, 0, 0, 0, 0, 0, 0, 0, ...  \n",
       "1       222  [0, 0, 0, 0, 0, 0, 0, 0, 0, 0, 0, 0, 0, 0, 0, ...  \n",
       "2      2781  [1, 0, 0, 0, 0, 0, 0, 0, 0, 0, 0, 0, 0, 0, 0, ...  \n",
       "3       244  [1, 1, 0, 0, 0, 0, 0, 0, 0, 0, 0, 0, 0, 0, 0, ...  \n",
       "4       238  [1, 1, 0, 0, 0, 0, 0, 0, 0, 0, 0, 0, 0, 0, 0, ...  "
      ]
     },
     "execution_count": 13,
     "metadata": {},
     "output_type": "execute_result"
    }
   ],
   "source": [
    "df.head()"
   ]
  },
  {
   "cell_type": "code",
   "execution_count": 14,
   "metadata": {},
   "outputs": [
    {
     "data": {
      "text/plain": [
       "{'opfer': 165,\n",
       " 'täter': 124,\n",
       " 'femizid': 101,\n",
       " 'frauenmord': 86,\n",
       " 'rache': 25,\n",
       " 'gewaltprävention': 10,\n",
       " 'beziehungstat': 8,\n",
       " 'eifersucht': 7,\n",
       " 'helpline': 5,\n",
       " 'ausländer': 4,\n",
       " 'beziehungsdrama': 4,\n",
       " 'einzelfall': 3,\n",
       " 'bluttat': 2,\n",
       " 'notrufnummern': 1,\n",
       " 'notrufnummer': 1,\n",
       " 'type': 'absolut'}"
      ]
     },
     "execution_count": 14,
     "metadata": {},
     "output_type": "execute_result"
    }
   ],
   "source": [
    "#loop throug df and get dict of all words with their count\n",
    "stopwords_dict = {}\n",
    "for index, row in df.iterrows():\n",
    "    text = row[\"text\"].lower()\n",
    "    for stopword in stopwords:\n",
    "        if stopword in text:\n",
    "            count = text.count(stopword)\n",
    "            if not stopword in stopwords_dict:\n",
    "                stopwords_dict[stopword] = count\n",
    "            else:\n",
    "                stopwords_dict[stopword] += count\n",
    "\n",
    "# sort dict\n",
    "stopwords_dict = dict(sorted(stopwords_dict.items(), key=lambda item: item[1],reverse=True))\n",
    "stopwords_dict[\"type\"] = \"absolut\"\n",
    "stopwords_dict\n"
   ]
  },
  {
   "cell_type": "code",
   "execution_count": 15,
   "metadata": {},
   "outputs": [
    {
     "data": {
      "text/plain": [
       "{'femizid': 66.67,\n",
       " 'frauenmord': 59.14,\n",
       " 'opfer': 51.61,\n",
       " 'täter': 45.16,\n",
       " 'rache': 12.9,\n",
       " 'gewaltprävention': 9.68,\n",
       " 'eifersucht': 4.3,\n",
       " 'beziehungstat': 4.3,\n",
       " 'ausländer': 4.3,\n",
       " 'helpline': 4.3,\n",
       " 'einzelfall': 2.15,\n",
       " 'bluttat': 2.15,\n",
       " 'beziehungsdrama': 2.15,\n",
       " 'notrufnummern': 1.08,\n",
       " 'notrufnummer': 1.08,\n",
       " 'type': 'relativ'}"
      ]
     },
     "execution_count": 15,
     "metadata": {},
     "output_type": "execute_result"
    }
   ],
   "source": [
    "#loop throug df and get dict of all words with their relative appearance to the number of articles\n",
    "stopwords_dict_relative = {}\n",
    "for index, row in df.iterrows():\n",
    "    for i in range(len(row[\"stopwords_count\"])):\n",
    "        if row[\"stopwords_count\"][i] != 0:\n",
    "            stopword = stopwords[i]\n",
    "            if not stopword in stopwords_dict_relative:\n",
    "                stopwords_dict_relative[stopword] = 1\n",
    "            else:\n",
    "                stopwords_dict_relative[stopword] += 1\n",
    "\n",
    "      \n",
    "# convert to percent\n",
    "for key in stopwords_dict_relative:\n",
    "    stopwords_dict_relative[key] = round((stopwords_dict_relative[key]/number_of_articles)*100,2)\n",
    "\n",
    "\n",
    "#ort dict\n",
    "stopwords_dict_relative = dict(sorted(stopwords_dict_relative.items(), key=lambda item: item[1],reverse=True))\n",
    "stopwords_dict_relative[\"type\"] = \"relativ\"\n",
    "stopwords_dict_relative\n",
    "\n"
   ]
  },
  {
   "cell_type": "code",
   "execution_count": 17,
   "metadata": {},
   "outputs": [
    {
     "name": "stderr",
     "output_type": "stream",
     "text": [
      "/var/folders/4h/dc444y5n53s2wccx80rmnh280000gn/T/ipykernel_84638/2529893169.py:6: FutureWarning: The frame.append method is deprecated and will be removed from pandas in a future version. Use pandas.concat instead.\n",
      "  df_result = df_result.append(stopwords_dict, ignore_index = True)\n",
      "/var/folders/4h/dc444y5n53s2wccx80rmnh280000gn/T/ipykernel_84638/2529893169.py:7: FutureWarning: The frame.append method is deprecated and will be removed from pandas in a future version. Use pandas.concat instead.\n",
      "  df_result = df_result.append(stopwords_dict_relative, ignore_index = True)\n"
     ]
    }
   ],
   "source": [
    "stopwords_dict_relative_keys = list(stopwords_dict_relative.keys())\n",
    "stopwords_dict_relative_values = stopwords_dict_relative.values()\n",
    "stopwords_dict_values = stopwords_dict.values()\n",
    "\n",
    "df_result = pd.DataFrame( columns=stopwords_dict_relative_keys)\n",
    "df_result = df_result.append(stopwords_dict, ignore_index = True)\n",
    "df_result = df_result.append(stopwords_dict_relative, ignore_index = True)\n",
    "df_result.to_csv(\"csv/\"+newspaper_name+\".csv\", index = False)"
   ]
  },
  {
   "cell_type": "code",
   "execution_count": 18,
   "metadata": {},
   "outputs": [
    {
     "data": {
      "text/html": [
       "<div>\n",
       "<style scoped>\n",
       "    .dataframe tbody tr th:only-of-type {\n",
       "        vertical-align: middle;\n",
       "    }\n",
       "\n",
       "    .dataframe tbody tr th {\n",
       "        vertical-align: top;\n",
       "    }\n",
       "\n",
       "    .dataframe thead th {\n",
       "        text-align: right;\n",
       "    }\n",
       "</style>\n",
       "<table border=\"1\" class=\"dataframe\">\n",
       "  <thead>\n",
       "    <tr style=\"text-align: right;\">\n",
       "      <th></th>\n",
       "      <th>femizid</th>\n",
       "      <th>frauenmord</th>\n",
       "      <th>opfer</th>\n",
       "      <th>täter</th>\n",
       "      <th>rache</th>\n",
       "      <th>gewaltprävention</th>\n",
       "      <th>eifersucht</th>\n",
       "      <th>beziehungstat</th>\n",
       "      <th>ausländer</th>\n",
       "      <th>helpline</th>\n",
       "      <th>einzelfall</th>\n",
       "      <th>bluttat</th>\n",
       "      <th>beziehungsdrama</th>\n",
       "      <th>notrufnummern</th>\n",
       "      <th>notrufnummer</th>\n",
       "      <th>type</th>\n",
       "    </tr>\n",
       "  </thead>\n",
       "  <tbody>\n",
       "    <tr>\n",
       "      <th>0</th>\n",
       "      <td>101</td>\n",
       "      <td>86</td>\n",
       "      <td>165</td>\n",
       "      <td>124</td>\n",
       "      <td>25</td>\n",
       "      <td>10</td>\n",
       "      <td>7</td>\n",
       "      <td>8</td>\n",
       "      <td>4</td>\n",
       "      <td>5</td>\n",
       "      <td>3</td>\n",
       "      <td>2</td>\n",
       "      <td>4</td>\n",
       "      <td>1</td>\n",
       "      <td>1</td>\n",
       "      <td>absolut</td>\n",
       "    </tr>\n",
       "    <tr>\n",
       "      <th>1</th>\n",
       "      <td>66.67</td>\n",
       "      <td>59.14</td>\n",
       "      <td>51.61</td>\n",
       "      <td>45.16</td>\n",
       "      <td>12.9</td>\n",
       "      <td>9.68</td>\n",
       "      <td>4.3</td>\n",
       "      <td>4.3</td>\n",
       "      <td>4.3</td>\n",
       "      <td>4.3</td>\n",
       "      <td>2.15</td>\n",
       "      <td>2.15</td>\n",
       "      <td>2.15</td>\n",
       "      <td>1.08</td>\n",
       "      <td>1.08</td>\n",
       "      <td>relativ</td>\n",
       "    </tr>\n",
       "  </tbody>\n",
       "</table>\n",
       "</div>"
      ],
      "text/plain": [
       "  femizid frauenmord  opfer  täter rache gewaltprävention eifersucht  \\\n",
       "0     101         86    165    124    25               10          7   \n",
       "1   66.67      59.14  51.61  45.16  12.9             9.68        4.3   \n",
       "\n",
       "  beziehungstat ausländer helpline einzelfall bluttat beziehungsdrama  \\\n",
       "0             8         4        5          3       2               4   \n",
       "1           4.3       4.3      4.3       2.15    2.15            2.15   \n",
       "\n",
       "  notrufnummern notrufnummer     type  \n",
       "0             1            1  absolut  \n",
       "1          1.08         1.08  relativ  "
      ]
     },
     "execution_count": 18,
     "metadata": {},
     "output_type": "execute_result"
    }
   ],
   "source": [
    "df_result.head()"
   ]
  },
  {
   "cell_type": "code",
   "execution_count": 19,
   "metadata": {},
   "outputs": [
    {
     "data": {
      "image/png": "[encoded data removed]",
      "text/plain": [
       "<Figure size 1080x504 with 1 Axes>"
      ]
     },
     "metadata": {
      "needs_background": "light"
     },
     "output_type": "display_data"
    }
   ],
   "source": [
    "#values absolute\n",
    "#remove type\n",
    "stopwords_dict.pop('type', None)\n",
    "\n",
    "plt.figure(figsize=(15, 7))\n",
    "plt.title(newspaper_name)\n",
    "plt.bar(range(len(stopwords_dict)), list(stopwords_dict.values()))\n",
    "plt.xticks(range(len(stopwords_dict)), list(stopwords_dict.keys()))\n",
    "plt.xticks(fontsize=12, rotation=315)\n",
    "plt.tick_params(axis='both', which='minor', labelsize=13)\n",
    "plt.tight_layout(pad=1)\n",
    "plt.savefig('grafiken/absolut/'+newspaper_name+'.jpg')\n",
    "plt.show()"
   ]
  },
  {
   "cell_type": "code",
   "execution_count": 20,
   "metadata": {},
   "outputs": [
    {
     "data": {
      "image/png": "[encoded data removed]",
      "text/plain": [
       "<Figure size 1080x504 with 1 Axes>"
      ]
     },
     "metadata": {
      "needs_background": "light"
     },
     "output_type": "display_data"
    }
   ],
   "source": [
    "#values relative\n",
    "\n",
    "#remove type\n",
    "stopwords_dict_relative.pop('type', None)\n",
    "\n",
    "plt.figure(figsize=(15, 7))\n",
    "plt.title(newspaper_name)\n",
    "plt.bar(range(len(stopwords_dict_relative)), list(stopwords_dict_relative.values()))\n",
    "plt.xticks(range(len(stopwords_dict_relative)), list(stopwords_dict_relative.keys()))\n",
    "plt.xticks(fontsize=12, rotation=315)\n",
    "plt.tick_params(axis='both', which='minor', labelsize=13)\n",
    "plt.tight_layout(pad=1)\n",
    "plt.savefig('grafiken/relativ/'+newspaper_name+'.jpg')\n",
    "plt.show()"
   ]
  }
 ],
 "metadata": {
  "interpreter": {
   "hash": "3d597f4c481aa0f25dceb95d2a0067e73c0966dcbd003d741d821a7208527ecf"
  },
  "kernelspec": {
   "display_name": "Python 3.9.11 ('base')",
   "language": "python",
   "name": "python3"
  },
  "language_info": {
   "codemirror_mode": {
    "name": "ipython",
    "version": 3
   },
   "file_extension": ".py",
   "mimetype": "text/x-python",
   "name": "python",
   "nbconvert_exporter": "python",
   "pygments_lexer": "ipython3",
   "version": "3.9.11"
  },
  "orig_nbformat": 4
 },
 "nbformat": 4,
 "nbformat_minor": 2
}
